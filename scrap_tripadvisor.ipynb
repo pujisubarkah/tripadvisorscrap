{
  "nbformat": 4,
  "nbformat_minor": 0,
  "metadata": {
    "colab": {
      "name": "scrap_tripadvisor.ipynb",
      "provenance": []
    },
    "kernelspec": {
      "name": "python3",
      "display_name": "Python 3"
    }
  },
  "cells": [
    {
      "cell_type": "code",
      "metadata": {
        "id": "_OUiuV9UFMhB"
      },
      "source": [
        "import requests\n",
        "from bs4 import BeautifulSoup"
      ],
      "execution_count": 3,
      "outputs": []
    },
    {
      "cell_type": "code",
      "metadata": {
        "colab": {
          "base_uri": "https://localhost:8080/"
        },
        "id": "_WE0Y5ooFjwv",
        "outputId": "24ee9bcf-792b-41be-de2f-4e94bc477617"
      },
      "source": [
        "html = requests.get('https://www.tripadvisor.com/Hotel_Review-g14782503-d3737584-Reviews-Hotel_Tentrem_Yogyakarta-Yogyakarta_Yogyakarta_Region_Java.html')\n",
        "html.status_code"
      ],
      "execution_count": 31,
      "outputs": [
        {
          "output_type": "execute_result",
          "data": {
            "text/plain": [
              "200"
            ]
          },
          "metadata": {
            "tags": []
          },
          "execution_count": 31
        }
      ]
    },
    {
      "cell_type": "code",
      "metadata": {
        "id": "7M_aD6ktF7dQ"
      },
      "source": [
        "soup = BeautifulSoup(html.content,'lxml')"
      ],
      "execution_count": 7,
      "outputs": []
    },
    {
      "cell_type": "code",
      "metadata": {
        "colab": {
          "base_uri": "https://localhost:8080/"
        },
        "id": "m2zLL0DxGFHO",
        "outputId": "335ede8d-ebeb-4549-9a69-5c4458f9887e"
      },
      "source": [
        "hotel = []\n",
        "for name in soup.findAll('div',{'class':'listing_title'}):\n",
        "  hotel.append(name.text)\n",
        "hotel"
      ],
      "execution_count": 9,
      "outputs": [
        {
          "output_type": "execute_result",
          "data": {
            "text/plain": [
              "['      El Hotel Royale Yogyakarta Malioboro',\n",
              " '      Grand Zuri Malioboro Yogyakarta',\n",
              " '      @HOM Premiere Timoho',\n",
              " '      Ibis Yogyakarta Malioboro Hotel',\n",
              " '      Hotel Neo Malioboro',\n",
              " '      Grand Senyum Hotel',\n",
              " '      Novotel Suites Yogyakarta Malioboro',\n",
              " \"      D'Kaliurang Resort & Convention\",\n",
              " '      Duta Garden Hotel',\n",
              " '      favehotel Malioboro Yogyakarta',\n",
              " '      Horaios Malioboro Hotel',\n",
              " '      Hotel Unisi Yogyakarta',\n",
              " '      Ayola Tasneem Convention Hotel',\n",
              " '      Front One Cabin Malioboro Jogja',\n",
              " '      Sabana Homestay',\n",
              " '      Arte Hotel Malioboro Yogyakarta',\n",
              " '      Sagan Hotel',\n",
              " '      RedDoorz @ Mantrirejon 2',\n",
              " '      Griya Jogja Hotel',\n",
              " '      OYO 804 Ndalem Maharani Guest House',\n",
              " '      Aveta Hotel Malioboro',\n",
              " '      OYO 585 Hotel Perwita Sari',\n",
              " '      Ndalem Malioboro',\n",
              " '      Hotel Tentrem Yogyakarta',\n",
              " '      Patra Malioboro Hotel',\n",
              " '      Royal Malioboro Yogyakarta by Aston',\n",
              " '      OYO 206 Hotel Candra Kirana',\n",
              " '      Kosala Jogja',\n",
              " '      OYO 411 Homestay Tentrem Ayem',\n",
              " '      OYO 369 Hotel Sekar Ayu']"
            ]
          },
          "metadata": {
            "tags": []
          },
          "execution_count": 9
        }
      ]
    },
    {
      "cell_type": "code",
      "metadata": {
        "colab": {
          "base_uri": "https://localhost:8080/"
        },
        "id": "7E83LR8kG0HJ",
        "outputId": "469078a3-2d14-403e-f1d6-a9776dd7469d"
      },
      "source": [
        "harga  = []\n",
        "for h in soup.findAll('div',{'class':'price-wrap'}):\n",
        "  harga.append(h.text)\n",
        "harga"
      ],
      "execution_count": 12,
      "outputs": [
        {
          "output_type": "execute_result",
          "data": {
            "text/plain": [
              "['$26',\n",
              " '$25$23',\n",
              " '$16',\n",
              " '$22',\n",
              " '$30',\n",
              " '$25',\n",
              " '$34$33',\n",
              " '$13',\n",
              " '$24',\n",
              " '$39$22',\n",
              " '$12',\n",
              " '$16',\n",
              " '$15$9',\n",
              " '$14',\n",
              " '$8',\n",
              " '$15',\n",
              " '$12',\n",
              " '$8$7',\n",
              " '$13',\n",
              " '$12$7',\n",
              " '$29',\n",
              " '$8',\n",
              " '$18',\n",
              " '',\n",
              " '',\n",
              " '',\n",
              " '',\n",
              " '',\n",
              " '',\n",
              " '']"
            ]
          },
          "metadata": {
            "tags": []
          },
          "execution_count": 12
        }
      ]
    },
    {
      "cell_type": "code",
      "metadata": {
        "colab": {
          "base_uri": "https://localhost:8080/"
        },
        "id": "DHnbdHXbHiBo",
        "outputId": "9b5aa322-5d4c-4100-ea7d-cca09e20e53c"
      },
      "source": [
        "ratings  = []\n",
        "for rating in soup.findAll('a',{'class':'ui_bubble_rating'}):\n",
        "  ratings.append(rating['alt'])\n",
        "ratings"
      ],
      "execution_count": 16,
      "outputs": [
        {
          "output_type": "execute_result",
          "data": {
            "text/plain": [
              "['4.5 of 5 bubbles',\n",
              " '4.5 of 5 bubbles',\n",
              " '4.5 of 5 bubbles',\n",
              " '4 of 5 bubbles',\n",
              " '4 of 5 bubbles',\n",
              " '4.5 of 5 bubbles',\n",
              " '4.5 of 5 bubbles',\n",
              " '4.5 of 5 bubbles',\n",
              " '4 of 5 bubbles',\n",
              " '4.5 of 5 bubbles',\n",
              " '4 of 5 bubbles',\n",
              " '4 of 5 bubbles',\n",
              " '4 of 5 bubbles',\n",
              " '4.5 of 5 bubbles',\n",
              " '4.5 of 5 bubbles',\n",
              " '4.5 of 5 bubbles',\n",
              " '3.5 of 5 bubbles',\n",
              " '4 of 5 bubbles',\n",
              " '4 of 5 bubbles',\n",
              " '4 of 5 bubbles',\n",
              " '4 of 5 bubbles',\n",
              " '3.5 of 5 bubbles',\n",
              " '4.5 of 5 bubbles',\n",
              " '4.5 of 5 bubbles',\n",
              " '5 of 5 bubbles',\n",
              " '5 of 5 bubbles',\n",
              " '4.5 of 5 bubbles',\n",
              " '4.5 of 5 bubbles',\n",
              " '5 of 5 bubbles',\n",
              " '5 of 5 bubbles']"
            ]
          },
          "metadata": {
            "tags": []
          },
          "execution_count": 16
        }
      ]
    },
    {
      "cell_type": "code",
      "metadata": {
        "colab": {
          "base_uri": "https://localhost:8080/"
        },
        "id": "vdsvtmIRI9Zv",
        "outputId": "568bbac9-dd2d-4ce3-9589-51135b1c771e"
      },
      "source": [
        "reviews  = []\n",
        "for review in soup.findAll('a',{'class':'review_count'}):\n",
        "  reviews.append(review.text.strip())\n",
        "reviews"
      ],
      "execution_count": 19,
      "outputs": [
        {
          "output_type": "execute_result",
          "data": {
            "text/plain": [
              "['87 reviews',\n",
              " '1,002 reviews',\n",
              " '29 reviews',\n",
              " '905 reviews',\n",
              " '1,666 reviews',\n",
              " '30 reviews',\n",
              " '58 reviews',\n",
              " '10 reviews',\n",
              " '287 reviews',\n",
              " '329 reviews',\n",
              " '11 reviews',\n",
              " '46 reviews',\n",
              " '49 reviews',\n",
              " '16 reviews',\n",
              " '53 reviews',\n",
              " '24 reviews',\n",
              " '34 reviews',\n",
              " '5 reviews',\n",
              " '13 reviews',\n",
              " '21 reviews',\n",
              " '11 reviews',\n",
              " '20 reviews',\n",
              " '3 reviews',\n",
              " '1,960 reviews',\n",
              " '1 review',\n",
              " '1 review',\n",
              " '2 reviews',\n",
              " '5 reviews',\n",
              " '2 reviews',\n",
              " '2 reviews']"
            ]
          },
          "metadata": {
            "tags": []
          },
          "execution_count": 19
        }
      ]
    },
    {
      "cell_type": "code",
      "metadata": {
        "id": "bLG4XxoQJiyM"
      },
      "source": [
        "import pandas"
      ],
      "execution_count": 20,
      "outputs": []
    },
    {
      "cell_type": "code",
      "metadata": {
        "id": "YeswqOdIJoU_"
      },
      "source": [
        "d = {'Hotel':hotel,'Ratings':ratings, 'No_of_reviews':reviews,'Harga':harga}"
      ],
      "execution_count": 21,
      "outputs": []
    },
    {
      "cell_type": "code",
      "metadata": {
        "colab": {
          "base_uri": "https://localhost:8080/",
          "height": 979
        },
        "id": "Zb1ORSlrJ9Pt",
        "outputId": "0c4625e6-8fb1-4e56-981d-c9691cb4e030"
      },
      "source": [
        "df=pandas.DataFrame.from_dict(d)\n",
        "df"
      ],
      "execution_count": 23,
      "outputs": [
        {
          "output_type": "execute_result",
          "data": {
            "text/html": [
              "<div>\n",
              "<style scoped>\n",
              "    .dataframe tbody tr th:only-of-type {\n",
              "        vertical-align: middle;\n",
              "    }\n",
              "\n",
              "    .dataframe tbody tr th {\n",
              "        vertical-align: top;\n",
              "    }\n",
              "\n",
              "    .dataframe thead th {\n",
              "        text-align: right;\n",
              "    }\n",
              "</style>\n",
              "<table border=\"1\" class=\"dataframe\">\n",
              "  <thead>\n",
              "    <tr style=\"text-align: right;\">\n",
              "      <th></th>\n",
              "      <th>Hotel</th>\n",
              "      <th>Ratings</th>\n",
              "      <th>No_of_reviews</th>\n",
              "      <th>Harga</th>\n",
              "    </tr>\n",
              "  </thead>\n",
              "  <tbody>\n",
              "    <tr>\n",
              "      <th>0</th>\n",
              "      <td>El Hotel Royale Yogyakarta Malioboro</td>\n",
              "      <td>4.5 of 5 bubbles</td>\n",
              "      <td>87 reviews</td>\n",
              "      <td>$26</td>\n",
              "    </tr>\n",
              "    <tr>\n",
              "      <th>1</th>\n",
              "      <td>Grand Zuri Malioboro Yogyakarta</td>\n",
              "      <td>4.5 of 5 bubbles</td>\n",
              "      <td>1,002 reviews</td>\n",
              "      <td>$25$23</td>\n",
              "    </tr>\n",
              "    <tr>\n",
              "      <th>2</th>\n",
              "      <td>@HOM Premiere Timoho</td>\n",
              "      <td>4.5 of 5 bubbles</td>\n",
              "      <td>29 reviews</td>\n",
              "      <td>$16</td>\n",
              "    </tr>\n",
              "    <tr>\n",
              "      <th>3</th>\n",
              "      <td>Ibis Yogyakarta Malioboro Hotel</td>\n",
              "      <td>4 of 5 bubbles</td>\n",
              "      <td>905 reviews</td>\n",
              "      <td>$22</td>\n",
              "    </tr>\n",
              "    <tr>\n",
              "      <th>4</th>\n",
              "      <td>Hotel Neo Malioboro</td>\n",
              "      <td>4 of 5 bubbles</td>\n",
              "      <td>1,666 reviews</td>\n",
              "      <td>$30</td>\n",
              "    </tr>\n",
              "    <tr>\n",
              "      <th>5</th>\n",
              "      <td>Grand Senyum Hotel</td>\n",
              "      <td>4.5 of 5 bubbles</td>\n",
              "      <td>30 reviews</td>\n",
              "      <td>$25</td>\n",
              "    </tr>\n",
              "    <tr>\n",
              "      <th>6</th>\n",
              "      <td>Novotel Suites Yogyakarta Malioboro</td>\n",
              "      <td>4.5 of 5 bubbles</td>\n",
              "      <td>58 reviews</td>\n",
              "      <td>$34$33</td>\n",
              "    </tr>\n",
              "    <tr>\n",
              "      <th>7</th>\n",
              "      <td>D'Kaliurang Resort &amp; Convention</td>\n",
              "      <td>4.5 of 5 bubbles</td>\n",
              "      <td>10 reviews</td>\n",
              "      <td>$13</td>\n",
              "    </tr>\n",
              "    <tr>\n",
              "      <th>8</th>\n",
              "      <td>Duta Garden Hotel</td>\n",
              "      <td>4 of 5 bubbles</td>\n",
              "      <td>287 reviews</td>\n",
              "      <td>$24</td>\n",
              "    </tr>\n",
              "    <tr>\n",
              "      <th>9</th>\n",
              "      <td>favehotel Malioboro Yogyakarta</td>\n",
              "      <td>4.5 of 5 bubbles</td>\n",
              "      <td>329 reviews</td>\n",
              "      <td>$39$22</td>\n",
              "    </tr>\n",
              "    <tr>\n",
              "      <th>10</th>\n",
              "      <td>Horaios Malioboro Hotel</td>\n",
              "      <td>4 of 5 bubbles</td>\n",
              "      <td>11 reviews</td>\n",
              "      <td>$12</td>\n",
              "    </tr>\n",
              "    <tr>\n",
              "      <th>11</th>\n",
              "      <td>Hotel Unisi Yogyakarta</td>\n",
              "      <td>4 of 5 bubbles</td>\n",
              "      <td>46 reviews</td>\n",
              "      <td>$16</td>\n",
              "    </tr>\n",
              "    <tr>\n",
              "      <th>12</th>\n",
              "      <td>Ayola Tasneem Convention Hotel</td>\n",
              "      <td>4 of 5 bubbles</td>\n",
              "      <td>49 reviews</td>\n",
              "      <td>$15$9</td>\n",
              "    </tr>\n",
              "    <tr>\n",
              "      <th>13</th>\n",
              "      <td>Front One Cabin Malioboro Jogja</td>\n",
              "      <td>4.5 of 5 bubbles</td>\n",
              "      <td>16 reviews</td>\n",
              "      <td>$14</td>\n",
              "    </tr>\n",
              "    <tr>\n",
              "      <th>14</th>\n",
              "      <td>Sabana Homestay</td>\n",
              "      <td>4.5 of 5 bubbles</td>\n",
              "      <td>53 reviews</td>\n",
              "      <td>$8</td>\n",
              "    </tr>\n",
              "    <tr>\n",
              "      <th>15</th>\n",
              "      <td>Arte Hotel Malioboro Yogyakarta</td>\n",
              "      <td>4.5 of 5 bubbles</td>\n",
              "      <td>24 reviews</td>\n",
              "      <td>$15</td>\n",
              "    </tr>\n",
              "    <tr>\n",
              "      <th>16</th>\n",
              "      <td>Sagan Hotel</td>\n",
              "      <td>3.5 of 5 bubbles</td>\n",
              "      <td>34 reviews</td>\n",
              "      <td>$12</td>\n",
              "    </tr>\n",
              "    <tr>\n",
              "      <th>17</th>\n",
              "      <td>RedDoorz @ Mantrirejon 2</td>\n",
              "      <td>4 of 5 bubbles</td>\n",
              "      <td>5 reviews</td>\n",
              "      <td>$8$7</td>\n",
              "    </tr>\n",
              "    <tr>\n",
              "      <th>18</th>\n",
              "      <td>Griya Jogja Hotel</td>\n",
              "      <td>4 of 5 bubbles</td>\n",
              "      <td>13 reviews</td>\n",
              "      <td>$13</td>\n",
              "    </tr>\n",
              "    <tr>\n",
              "      <th>19</th>\n",
              "      <td>OYO 804 Ndalem Maharani Guest House</td>\n",
              "      <td>4 of 5 bubbles</td>\n",
              "      <td>21 reviews</td>\n",
              "      <td>$12$7</td>\n",
              "    </tr>\n",
              "    <tr>\n",
              "      <th>20</th>\n",
              "      <td>Aveta Hotel Malioboro</td>\n",
              "      <td>4 of 5 bubbles</td>\n",
              "      <td>11 reviews</td>\n",
              "      <td>$29</td>\n",
              "    </tr>\n",
              "    <tr>\n",
              "      <th>21</th>\n",
              "      <td>OYO 585 Hotel Perwita Sari</td>\n",
              "      <td>3.5 of 5 bubbles</td>\n",
              "      <td>20 reviews</td>\n",
              "      <td>$8</td>\n",
              "    </tr>\n",
              "    <tr>\n",
              "      <th>22</th>\n",
              "      <td>Ndalem Malioboro</td>\n",
              "      <td>4.5 of 5 bubbles</td>\n",
              "      <td>3 reviews</td>\n",
              "      <td>$18</td>\n",
              "    </tr>\n",
              "    <tr>\n",
              "      <th>23</th>\n",
              "      <td>Hotel Tentrem Yogyakarta</td>\n",
              "      <td>4.5 of 5 bubbles</td>\n",
              "      <td>1,960 reviews</td>\n",
              "      <td></td>\n",
              "    </tr>\n",
              "    <tr>\n",
              "      <th>24</th>\n",
              "      <td>Patra Malioboro Hotel</td>\n",
              "      <td>5 of 5 bubbles</td>\n",
              "      <td>1 review</td>\n",
              "      <td></td>\n",
              "    </tr>\n",
              "    <tr>\n",
              "      <th>25</th>\n",
              "      <td>Royal Malioboro Yogyakarta by Aston</td>\n",
              "      <td>5 of 5 bubbles</td>\n",
              "      <td>1 review</td>\n",
              "      <td></td>\n",
              "    </tr>\n",
              "    <tr>\n",
              "      <th>26</th>\n",
              "      <td>OYO 206 Hotel Candra Kirana</td>\n",
              "      <td>4.5 of 5 bubbles</td>\n",
              "      <td>2 reviews</td>\n",
              "      <td></td>\n",
              "    </tr>\n",
              "    <tr>\n",
              "      <th>27</th>\n",
              "      <td>Kosala Jogja</td>\n",
              "      <td>4.5 of 5 bubbles</td>\n",
              "      <td>5 reviews</td>\n",
              "      <td></td>\n",
              "    </tr>\n",
              "    <tr>\n",
              "      <th>28</th>\n",
              "      <td>OYO 411 Homestay Tentrem Ayem</td>\n",
              "      <td>5 of 5 bubbles</td>\n",
              "      <td>2 reviews</td>\n",
              "      <td></td>\n",
              "    </tr>\n",
              "    <tr>\n",
              "      <th>29</th>\n",
              "      <td>OYO 369 Hotel Sekar Ayu</td>\n",
              "      <td>5 of 5 bubbles</td>\n",
              "      <td>2 reviews</td>\n",
              "      <td></td>\n",
              "    </tr>\n",
              "  </tbody>\n",
              "</table>\n",
              "</div>"
            ],
            "text/plain": [
              "                                         Hotel  ...   Harga\n",
              "0         El Hotel Royale Yogyakarta Malioboro  ...     $26\n",
              "1              Grand Zuri Malioboro Yogyakarta  ...  $25$23\n",
              "2                         @HOM Premiere Timoho  ...     $16\n",
              "3              Ibis Yogyakarta Malioboro Hotel  ...     $22\n",
              "4                          Hotel Neo Malioboro  ...     $30\n",
              "5                           Grand Senyum Hotel  ...     $25\n",
              "6          Novotel Suites Yogyakarta Malioboro  ...  $34$33\n",
              "7              D'Kaliurang Resort & Convention  ...     $13\n",
              "8                            Duta Garden Hotel  ...     $24\n",
              "9               favehotel Malioboro Yogyakarta  ...  $39$22\n",
              "10                     Horaios Malioboro Hotel  ...     $12\n",
              "11                      Hotel Unisi Yogyakarta  ...     $16\n",
              "12              Ayola Tasneem Convention Hotel  ...   $15$9\n",
              "13             Front One Cabin Malioboro Jogja  ...     $14\n",
              "14                             Sabana Homestay  ...      $8\n",
              "15             Arte Hotel Malioboro Yogyakarta  ...     $15\n",
              "16                                 Sagan Hotel  ...     $12\n",
              "17                    RedDoorz @ Mantrirejon 2  ...    $8$7\n",
              "18                           Griya Jogja Hotel  ...     $13\n",
              "19         OYO 804 Ndalem Maharani Guest House  ...   $12$7\n",
              "20                       Aveta Hotel Malioboro  ...     $29\n",
              "21                  OYO 585 Hotel Perwita Sari  ...      $8\n",
              "22                            Ndalem Malioboro  ...     $18\n",
              "23                    Hotel Tentrem Yogyakarta  ...        \n",
              "24                       Patra Malioboro Hotel  ...        \n",
              "25         Royal Malioboro Yogyakarta by Aston  ...        \n",
              "26                 OYO 206 Hotel Candra Kirana  ...        \n",
              "27                                Kosala Jogja  ...        \n",
              "28               OYO 411 Homestay Tentrem Ayem  ...        \n",
              "29                     OYO 369 Hotel Sekar Ayu  ...        \n",
              "\n",
              "[30 rows x 4 columns]"
            ]
          },
          "metadata": {
            "tags": []
          },
          "execution_count": 23
        }
      ]
    }
  ]
}